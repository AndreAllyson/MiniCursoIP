{
  "nbformat": 4,
  "nbformat_minor": 0,
  "metadata": {
    "colab": {
      "provenance": [],
      "authorship_tag": "ABX9TyNsTfhcFgT4/5t+5KBfH3zw",
      "include_colab_link": true
    },
    "kernelspec": {
      "name": "python3",
      "display_name": "Python 3"
    },
    "language_info": {
      "name": "python"
    }
  },
  "cells": [
    {
      "cell_type": "markdown",
      "metadata": {
        "id": "view-in-github",
        "colab_type": "text"
      },
      "source": [
        "<a href=\"https://colab.research.google.com/github/clovesrocha/MiniCursoIP/blob/master/aula2.ipynb\" target=\"_parent\"><img src=\"https://colab.research.google.com/assets/colab-badge.svg\" alt=\"Open In Colab\"/></a>"
      ]
    },
    {
      "cell_type": "code",
      "execution_count": 5,
      "metadata": {
        "colab": {
          "base_uri": "https://localhost:8080/"
        },
        "id": "x1xAW7hGkvyb",
        "outputId": "dcc219c5-5405-4b8f-d2cc-206d45963414"
      },
      "outputs": [
        {
          "output_type": "stream",
          "name": "stdout",
          "text": [
            "<class 'bool'>\n"
          ]
        }
      ],
      "source": [
        "# uninassau\n",
        "# docente: cloves rocha\n",
        "# estudante: Helena  Torres, Vinicius  França, Victor Muniz\n",
        "# tipos primitivos de dados com python\n",
        "#print ('Cloves')\n",
        "\n",
        "c = False\n",
        "print(type(c))"
      ]
    }
  ]
}