{
  "nbformat": 4,
  "nbformat_minor": 0,
  "metadata": {
    "colab": {
      "name": "Ep. #11.ipynb",
      "provenance": [],
      "authorship_tag": "ABX9TyP1xnF84sB8Ob7zt4JfEK+6",
      "include_colab_link": true
    },
    "kernelspec": {
      "name": "python3",
      "display_name": "Python 3"
    }
  },
  "cells": [
    {
      "cell_type": "markdown",
      "metadata": {
        "id": "view-in-github",
        "colab_type": "text"
      },
      "source": [
        "<a href=\"https://colab.research.google.com/github/clovesrocha/minicursoip/blob/master/Ep_11.ipynb\" target=\"_parent\"><img src=\"https://colab.research.google.com/assets/colab-badge.svg\" alt=\"Open In Colab\"/></a>"
      ]
    },
    {
      "cell_type": "code",
      "metadata": {
        "id": "NFIkBLQzKE2J",
        "colab_type": "code",
        "colab": {
          "base_uri": "https://localhost:8080/",
          "height": 51
        },
        "outputId": "d3be21ce-9ece-47dc-8033-adcb2ef11d07"
      },
      "source": [
        "c = int(input('Digite um número: '))\n",
        "if c in range(1, 100, 2):\n",
        "  print(f'{c} está entre 1 e 99.')\n",
        "else:\n",
        "  print(f'{c} não está entre 1 e 99.')\n",
        "\n"
      ],
      "execution_count": 14,
      "outputs": [
        {
          "output_type": "stream",
          "text": [
            "Digite um número: 500\n",
            "500 não está entre 1 e 99.\n"
          ],
          "name": "stdout"
        }
      ]
    },
    {
      "cell_type": "markdown",
      "metadata": {
        "id": "kU1c1QKVOAxi",
        "colab_type": "text"
      },
      "source": [
        "# Aula - Ep. #11 - Mini Curso de #IP\n",
        "# Episódio #11: Função range(), operadores in e not in\n",
        "# GitHub do mini curso: https://github.com/clovesrocha/minicursoip\n",
        "#\n",
        "\n",
        "```\n",
        "# Isto está formatado como código\n",
        "```\n",
        "\n",
        " Prepara o café e vamos simbora!"
      ]
    }
  ]
}