{
  "nbformat": 4,
  "nbformat_minor": 0,
  "metadata": {
    "colab": {
      "name": "Ep. #07.ipynb",
      "provenance": [],
      "authorship_tag": "ABX9TyNjCgSyIHOZi0qO5Xl9nyvd",
      "include_colab_link": true
    },
    "kernelspec": {
      "name": "python3",
      "display_name": "Python 3"
    }
  },
  "cells": [
    {
      "cell_type": "markdown",
      "metadata": {
        "id": "view-in-github",
        "colab_type": "text"
      },
      "source": [
        "<a href=\"https://colab.research.google.com/github/clovesrocha/minicursoip/blob/master/Ep_07.ipynb\" target=\"_parent\"><img src=\"https://colab.research.google.com/assets/colab-badge.svg\" alt=\"Open In Colab\"/></a>"
      ]
    },
    {
      "cell_type": "code",
      "metadata": {
        "id": "CCsKMc56LBth",
        "colab_type": "code",
        "colab": {
          "base_uri": "https://localhost:8080/",
          "height": 70
        },
        "outputId": "b8b6a8f4-b476-4115-8178-496ba59f13fe"
      },
      "source": [
        "# Aula - Ep. #07 - Mini Curso de #IP\n",
        "# Função input() \n",
        "# GitHub do mini curso: https://github.com/clovesrocha/minicursoip\n",
        "# Prepara o café e vamos simbora! \n",
        "\n",
        "nome = input('Digite seu nome: ')\n",
        "sobrenome = input('Digite seu sobrenome: ')\n",
        "print(f'Seu nome e sobrenome é {nome} {sobrenome}')"
      ],
      "execution_count": 1,
      "outputs": [
        {
          "output_type": "stream",
          "text": [
            "Digite seu nomeCloves\n",
            "Digite seu sobrenomeRocha\n",
            "Seu nome e sobrenome é Cloves Rocha\n"
          ],
          "name": "stdout"
        }
      ]
    }
  ]
}
