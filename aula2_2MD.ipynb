{
  "nbformat": 4,
  "nbformat_minor": 0,
  "metadata": {
    "colab": {
      "provenance": [],
      "authorship_tag": "ABX9TyOTo3U36OhkRw96AVd4zii+",
      "include_colab_link": true
    },
    "kernelspec": {
      "name": "python3",
      "display_name": "Python 3"
    },
    "language_info": {
      "name": "python"
    }
  },
  "cells": [
    {
      "cell_type": "markdown",
      "metadata": {
        "id": "view-in-github",
        "colab_type": "text"
      },
      "source": [
        "<a href=\"https://colab.research.google.com/github/clovesrocha/MiniCursoIP/blob/master/aula2_2MD.ipynb\" target=\"_parent\"><img src=\"https://colab.research.google.com/assets/colab-badge.svg\" alt=\"Open In Colab\"/></a>"
      ]
    },
    {
      "cell_type": "code",
      "execution_count": 6,
      "metadata": {
        "colab": {
          "base_uri": "https://localhost:8080/"
        },
        "id": "9K55jok9Drt0",
        "outputId": "31150435-97c3-4aaa-cdcc-0ca4d136be90"
      },
      "outputs": [
        {
          "output_type": "stream",
          "name": "stdout",
          "text": [
            "<class 'bool'>\n"
          ]
        }
      ],
      "source": [
        "# UNINASSAU\n",
        "# DOCENTE: CLOVES ROCHA\n",
        "# ESTUDANTES: ....\n",
        "\n",
        "#print('Cloves')\n",
        "\n",
        "c = True\n",
        "print(type(c))\n"
      ]
    }
  ]
}