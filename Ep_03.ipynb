{
  "nbformat": 4,
  "nbformat_minor": 0,
  "metadata": {
    "colab": {
      "name": "Ep. #03.ipynb",
      "provenance": [],
      "authorship_tag": "ABX9TyNEwcJ5y68k4Ilgo3A/pqcD",
      "include_colab_link": true
    },
    "kernelspec": {
      "name": "python3",
      "display_name": "Python 3"
    }
  },
  "cells": [
    {
      "cell_type": "markdown",
      "metadata": {
        "id": "view-in-github",
        "colab_type": "text"
      },
      "source": [
        "<a href=\"https://colab.research.google.com/github/clovesrocha/minicursoip/blob/master/Ep_03.ipynb\" target=\"_parent\"><img src=\"https://colab.research.google.com/assets/colab-badge.svg\" alt=\"Open In Colab\"/></a>"
      ]
    },
    {
      "cell_type": "code",
      "metadata": {
        "id": "61gabbrNGfpy",
        "colab_type": "code",
        "colab": {
          "base_uri": "https://localhost:8080/",
          "height": 34
        },
        "outputId": "5889ee57-710b-426c-c6a8-8f37438adc8e"
      },
      "source": [
        "# Aula - Ep. #03 - Mini Curso de #IP\n",
        "# Operadores Aritméticos em Python\n",
        "# GitHub do mini curso: https://github.com/clovesrocha/minicursoip \n",
        "\n",
        "# + \n",
        "# -\n",
        "# *\n",
        "# /\n",
        "# **\n",
        "# //\n",
        "# %\n",
        "\n",
        "#c = 2**3\n",
        "#print(c)\n",
        "#r = 10//3\n",
        "#print(r)\n",
        "#r = 10%3\n",
        "#print(r)\n",
        "#c = 3*3\n",
        "#print(c)\n"
      ],
      "execution_count": 8,
      "outputs": [
        {
          "output_type": "stream",
          "text": [
            "9\n"
          ],
          "name": "stdout"
        }
      ]
    }
  ]
}