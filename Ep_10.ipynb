{
  "nbformat": 4,
  "nbformat_minor": 0,
  "metadata": {
    "colab": {
      "name": "Ep. #10.ipynb",
      "provenance": [],
      "authorship_tag": "ABX9TyNbCANaaxujdUNo2uZbajf8",
      "include_colab_link": true
    },
    "kernelspec": {
      "name": "python3",
      "display_name": "Python 3"
    }
  },
  "cells": [
    {
      "cell_type": "markdown",
      "metadata": {
        "id": "view-in-github",
        "colab_type": "text"
      },
      "source": [
        "<a href=\"https://colab.research.google.com/github/clovesrocha/minicursoip/blob/master/Ep_10.ipynb\" target=\"_parent\"><img src=\"https://colab.research.google.com/assets/colab-badge.svg\" alt=\"Open In Colab\"/></a>"
      ]
    },
    {
      "cell_type": "code",
      "metadata": {
        "id": "ZK78dcidF1HX",
        "colab_type": "code",
        "colab": {}
      },
      "source": [
        "# Aula - Ep. #10 - Mini Curso de #IP\n",
        "# Operadores Lógicos: and; or; not\n",
        "# GitHub do mini curso: https://github.com/clovesrocha/minicursoip\n",
        "# Prepara o café e vamos simbora!\n",
        "\n",
        "#Operador and\n",
        "#resposta = int( input('Qual é sua idade: ') )\n",
        "#if resposta >=18 and resposta <=65:\n",
        "#   print('Você é obrigado a votar!')\n",
        "#else:\n",
        "#   print('Você não é obrigado a votar!')\n",
        "\n",
        "#Operador or\n",
        "#print('1. Idoso')\n",
        "#print('2. Gestante')\n",
        "#print('3. Cadeirante')\n",
        "#print('4. Atendimento comum')\n",
        "#resposta = int( input('Selecione uma opção: ') )\n",
        "#if (resposta==1) or (resposta==2) or (resposta==3) :\n",
        "#   print('Você tem direito a fila prioritária!')\n",
        "#else:\n",
        "#   print('Aguarde sua vez na fila comum.')\n",
        "\n",
        "#Operador not \n",
        "#a = 10\n",
        "#b = 9\n",
        "#print(not a < b)\n",
        "\n",
        "#Outro exemplo not\n",
        "\n",
        "agencia = input('Qual é a sigla da agência espacial norte-americana?')\n",
        "\n",
        "if not agencia=='NASA':\n",
        "   print('Errado, tente novamente!')\n",
        "else:\n",
        "   print('Correto, NASA!')\n",
        "\n",
        "\n"
      ],
      "execution_count": null,
      "outputs": []
    }
  ]
}