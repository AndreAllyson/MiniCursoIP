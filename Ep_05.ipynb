{
  "nbformat": 4,
  "nbformat_minor": 0,
  "metadata": {
    "colab": {
      "name": "Ep. #05.ipynb",
      "provenance": [],
      "authorship_tag": "ABX9TyNH5TzdzdRIT2988IoDiZn7",
      "include_colab_link": true
    },
    "kernelspec": {
      "name": "python3",
      "display_name": "Python 3"
    }
  },
  "cells": [
    {
      "cell_type": "markdown",
      "metadata": {
        "id": "view-in-github",
        "colab_type": "text"
      },
      "source": [
        "<a href=\"https://colab.research.google.com/github/clovesrocha/minicursoip/blob/master/Ep_05.ipynb\" target=\"_parent\"><img src=\"https://colab.research.google.com/assets/colab-badge.svg\" alt=\"Open In Colab\"/></a>"
      ]
    },
    {
      "cell_type": "code",
      "metadata": {
        "id": "ybDf7a82MnZr",
        "colab_type": "code",
        "colab": {
          "base_uri": "https://localhost:8080/",
          "height": 35
        },
        "outputId": "c1ea216a-5ca2-462a-d458-3e90e3ce1aa3"
      },
      "source": [
        "# Aula - Ep. #05 - Mini Curso de #IP\n",
        "# Operadores Relacionais Compostos\n",
        "# GitHub do mini curso: https://github.com/clovesrocha/minicursoip\n",
        "# Prepara o café e vamos simbora! \n",
        "\n",
        "# >= Maior ou igual a\n",
        "# <= Menor ou igual a \n",
        "# != Diferente de\n",
        "\n",
        "#c = 4 \n",
        "#r = 3\n",
        "#print(c >= r)\n",
        "\n",
        "x = 7 \n",
        "y = 7\n",
        "print(x != y)\n"
      ],
      "execution_count": 6,
      "outputs": [
        {
          "output_type": "stream",
          "text": [
            "False\n"
          ],
          "name": "stdout"
        }
      ]
    }
  ]
}