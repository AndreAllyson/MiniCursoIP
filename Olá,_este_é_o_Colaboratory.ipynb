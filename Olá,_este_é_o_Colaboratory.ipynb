{
  "cells": [
    {
      "cell_type": "markdown",
      "metadata": {
        "id": "view-in-github",
        "colab_type": "text"
      },
      "source": [
        "<a href=\"https://colab.research.google.com/github/clovesrocha/MiniCursoIP/blob/master/Ol%C3%A1%2C_este_%C3%A9_o_Colaboratory.ipynb\" target=\"_parent\"><img src=\"https://colab.research.google.com/assets/colab-badge.svg\" alt=\"Open In Colab\"/></a>"
      ]
    },
    {
      "cell_type": "code",
      "source": [
        "\n",
        "#aula - Ep. #02 mini curso de python\n",
        "#alunos: Eduardo Mendes Ferreira de Oliveira (01504209)// Amanda Luana Santos Alves (01535268)\n",
        "#Turma: 4NMC\n",
        "#Tipo: primitivo\n",
        "\n",
        "\n",
        "\n",
        "\n",
        "c = \"(-2)+3*5\"\n",
        "print(c)\n",
        "#c = 5\n",
        "#r = 5\n",
        "#print(c == r)\n",
        ""
      ],
      "metadata": {
        "id": "B1OY_RFgmQxY"
      },
      "execution_count": null,
      "outputs": []
    },
    {
      "cell_type": "code",
      "source": [
        "a = 4\n",
        "b = 3\n",
        "print(a >=b)"
      ],
      "metadata": {
        "id": "Hk4wT4aumXaI",
        "outputId": "2fee58b9-02dc-4fcc-edc9-a0eb797499db",
        "colab": {
          "base_uri": "https://localhost:8080/"
        }
      },
      "execution_count": 1,
      "outputs": [
        {
          "output_type": "stream",
          "name": "stdout",
          "text": [
            "True\n"
          ]
        }
      ]
    }
  ],
  "metadata": {
    "colab": {
      "name": "Olá, este é o Colaboratory",
      "toc_visible": true,
      "provenance": [],
      "include_colab_link": true
    },
    "kernelspec": {
      "display_name": "Python 3",
      "name": "python3"
    }
  },
  "nbformat": 4,
  "nbformat_minor": 0
}