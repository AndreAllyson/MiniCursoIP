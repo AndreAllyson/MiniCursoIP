{
  "cells": [
    {
      "cell_type": "markdown",
      "metadata": {
        "id": "view-in-github",
        "colab_type": "text"
      },
      "source": [
        "<a href=\"https://colab.research.google.com/github/clovesrocha/MiniCursoIP/blob/master/Ol%C3%A1%2C_este_%C3%A9_o_Colaboratory.ipynb\" target=\"_parent\"><img src=\"https://colab.research.google.com/assets/colab-badge.svg\" alt=\"Open In Colab\"/></a>"
      ]
    },
    {
      "cell_type": "code",
      "source": [
        "#aula - Ep. #02 mini curso de python\n",
        "#alunos: Eduardo Mendes Ferreira de Oliveira (01504209)// Amanda Luana Santos Alves (01535268)\n",
        "#Turma: 4NMC\n",
        "#Tipo: primitivo\n",
        "\n",
        "\n",
        "\n",
        "\n",
        "c = \"(-2)+3*5\"\n",
        "print(c)\n",
        "#c = 5\n",
        "#r = 5\n",
        "#print(c == r)"
      ],
      "metadata": {
        "id": "n53pU95uXzKC"
      },
      "execution_count": null,
      "outputs": []
    }
  ],
  "metadata": {
    "colab": {
      "name": "Olá, este é o Colaboratory",
      "toc_visible": true,
      "provenance": [],
      "include_colab_link": true
    },
    "kernelspec": {
      "display_name": "Python 3",
      "name": "python3"
    }
  },
  "nbformat": 4,
  "nbformat_minor": 0
}