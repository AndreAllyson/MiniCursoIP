{
  "nbformat": 4,
  "nbformat_minor": 0,
  "metadata": {
    "colab": {
      "provenance": [],
      "name": "TESTE.ipynb",
      "authorship_tag": "ABX9TyPAeRJ3WFcnPga0+zjDzGhk",
      "include_colab_link": true
    },
    "kernelspec": {
      "name": "python3",
      "display_name": "Python 3"
    },
    "language_info": {
      "name": "python"
    }
  },
  "cells": [
    {
      "cell_type": "markdown",
      "metadata": {
        "id": "view-in-github",
        "colab_type": "text"
      },
      "source": [
        "<a href=\"https://colab.research.google.com/github/clovesrocha/MiniCursoIP/blob/master/Aula1%20Lab7%20.ipynb\" target=\"_parent\"><img src=\"https://colab.research.google.com/assets/colab-badge.svg\" alt=\"Open In Colab\"/></a>"
      ]
    },
    {
      "cell_type": "code",
      "execution_count": 8,
      "metadata": {
        "id": "7OteSXxEVHII",
        "outputId": "b7ec0f4a-b763-4719-bb74-3396935b0e16",
        "colab": {
          "base_uri": "https://localhost:8080/",
          "height": 144
        }
      },
      "outputs": [
        {
          "output_type": "error",
          "ename": "SyntaxError",
          "evalue": "ignored",
          "traceback": [
            "\u001b[0;36m  File \u001b[0;32m\"<ipython-input-8-2df16a723ea2>\"\u001b[0;36m, line \u001b[0;32m8\u001b[0m\n\u001b[0;31m    print (\"c\" type(c));\u001b[0m\n\u001b[0m           ^\u001b[0m\n\u001b[0;31mSyntaxError\u001b[0m\u001b[0;31m:\u001b[0m invalid syntax. Perhaps you forgot a comma?\n"
          ]
        }
      ],
      "source": [
        "#Teste repositório colab .py\n",
        "#Vars\n",
        "\n",
        "c = 'Sertoriel';\n",
        "C2 = 1+1;\n",
        "C3 = False;\n",
        "C4 = 2.2;\n",
        "print (type(c));\n",
        "print (c);\n",
        "print (type(C2));\n",
        "print (C2);\n",
        "print (type(C3));\n",
        "print (C3);\n",
        "print (type(C4));\n",
        "print (C4);\n",
        "\n",
        "#If u run this code it will show every type of variable in it and their value.\n"
      ]
    }
  ]
}