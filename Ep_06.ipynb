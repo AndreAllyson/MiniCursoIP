{
  "nbformat": 4,
  "nbformat_minor": 0,
  "metadata": {
    "colab": {
      "name": "Ep. #06.ipynb",
      "provenance": [],
      "authorship_tag": "ABX9TyP9Ts1mhWZZgMb6/RXylwLy",
      "include_colab_link": true
    },
    "kernelspec": {
      "name": "python3",
      "display_name": "Python 3"
    }
  },
  "cells": [
    {
      "cell_type": "markdown",
      "metadata": {
        "id": "view-in-github",
        "colab_type": "text"
      },
      "source": [
        "<a href=\"https://colab.research.google.com/github/clovesrocha/minicursoip/blob/master/Ep_06.ipynb\" target=\"_parent\"><img src=\"https://colab.research.google.com/assets/colab-badge.svg\" alt=\"Open In Colab\"/></a>"
      ]
    },
    {
      "cell_type": "code",
      "metadata": {
        "id": "efq3A-VdXP61",
        "colab_type": "code",
        "colab": {
          "base_uri": "https://localhost:8080/",
          "height": 35
        },
        "outputId": "1e7a39cc-16ac-4d06-9959-6ffcc71e330a"
      },
      "source": [
        "# Aula - Ep. #06 - Mini Curso de #IP\n",
        "# Função print() \n",
        "# GitHub do mini curso: https://github.com/clovesrocha/minicursoip\n",
        "# Prepara o café e vamos simbora! \n",
        "\n",
        "#print('Olá mundo!' , 2 , 3, 4 ,5 , True , False)\n",
        "\n",
        "n = 4\n",
        "print(f'O número {n} é par.')"
      ],
      "execution_count": 7,
      "outputs": [
        {
          "output_type": "stream",
          "text": [
            "O número 4 é par.\n"
          ],
          "name": "stdout"
        }
      ]
    }
  ]
}