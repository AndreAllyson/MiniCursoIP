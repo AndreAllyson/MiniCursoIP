{
  "nbformat": 4,
  "nbformat_minor": 0,
  "metadata": {
    "colab": {
      "name": "Ep. #02.ipynb",
      "provenance": [],
      "include_colab_link": true
    },
    "kernelspec": {
      "name": "python3",
      "display_name": "Python 3"
    }
  },
  "cells": [
    {
      "cell_type": "markdown",
      "metadata": {
        "id": "view-in-github",
        "colab_type": "text"
      },
      "source": [
        "<a href=\"https://colab.research.google.com/github/clovesrocha/MiniCursoIP/blob/master/Aula_1.ipynb\" target=\"_parent\"><img src=\"https://colab.research.google.com/assets/colab-badge.svg\" alt=\"Open In Colab\"/></a>"
      ]
    },
    {
      "cell_type": "code",
      "metadata": {
        "id": "Ug7UrReB_psV"
      },
      "source": [
        "# Aula - Ep. #02 - Mini Curso de #IP\n",
        "# Tipos Primitivos de Dados em Python\n",
        "# Estudantes: Eliabe Wesley e Cauã Victor\n",
        "# Uninassau\n",
        "# CC - 4NMC\n",
        "\n",
        "# Tipo Inteiro ok\n",
        "# Tipo Reais ok\n",
        "# Tipo Booleanos ok\n",
        "# Tipo Caracteres (string) ok\n",
        "\n",
        "b = 10+80\n",
        "#print (b)\n",
        "#c = 5\n",
        "#r = 5\n",
        "#print(c == r)"
      ],
      "execution_count": 1,
      "outputs": []
    }
  ]
}