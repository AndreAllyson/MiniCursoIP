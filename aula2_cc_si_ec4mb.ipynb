{
  "nbformat": 4,
  "nbformat_minor": 0,
  "metadata": {
    "colab": {
      "provenance": [],
      "authorship_tag": "ABX9TyPicBQw4CJXYHCAdEyBqEeH",
      "include_colab_link": true
    },
    "kernelspec": {
      "name": "python3",
      "display_name": "Python 3"
    },
    "language_info": {
      "name": "python"
    }
  },
  "cells": [
    {
      "cell_type": "markdown",
      "metadata": {
        "id": "view-in-github",
        "colab_type": "text"
      },
      "source": [
        "<a href=\"https://colab.research.google.com/github/clovesrocha/MiniCursoIP/blob/master/aula2_cc_si_ec4mb.ipynb\" target=\"_parent\"><img src=\"https://colab.research.google.com/assets/colab-badge.svg\" alt=\"Open In Colab\"/></a>"
      ]
    },
    {
      "cell_type": "code",
      "execution_count": 6,
      "metadata": {
        "colab": {
          "base_uri": "https://localhost:8080/"
        },
        "id": "tA61mYpob2Z1",
        "outputId": "f10aa3fa-85c1-43b1-e398-f4172bb6b649"
      },
      "outputs": [
        {
          "output_type": "stream",
          "name": "stdout",
          "text": [
            "<class 'bool'>\n"
          ]
        }
      ],
      "source": [
        "# UNINASSAU\n",
        "# DOCENTE: CLOVES\n",
        "# TURMA: CC/SI/EC 4MB\n",
        "# ESTUDANTE: ...\n",
        "# Tipos Primitivos de Dados\n",
        "\n",
        "#print('cloves')\n",
        "c = False\n",
        "print(type(c))"
      ]
    },
    {
      "cell_type": "code",
      "source": [
        "notaA = 10\n",
        "notaB = 9.9\n",
        "print(notaA == notaB)"
      ],
      "metadata": {
        "colab": {
          "base_uri": "https://localhost:8080/"
        },
        "id": "xgtmpAvffWJR",
        "outputId": "bb0a8123-a76d-438d-b5a8-7b0be9a27168"
      },
      "execution_count": 9,
      "outputs": [
        {
          "output_type": "stream",
          "name": "stdout",
          "text": [
            "False\n"
          ]
        }
      ]
    }
  ]
}