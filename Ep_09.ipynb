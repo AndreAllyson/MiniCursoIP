{
  "nbformat": 4,
  "nbformat_minor": 0,
  "metadata": {
    "colab": {
      "name": "Ep. #09.ipynb",
      "provenance": [],
      "authorship_tag": "ABX9TyObAHK97MPzkp9CkdD53psq",
      "include_colab_link": true
    },
    "kernelspec": {
      "name": "python3",
      "display_name": "Python 3"
    }
  },
  "cells": [
    {
      "cell_type": "markdown",
      "metadata": {
        "id": "view-in-github",
        "colab_type": "text"
      },
      "source": [
        "<a href=\"https://colab.research.google.com/github/clovesrocha/minicursoip/blob/master/Ep_09.ipynb\" target=\"_parent\"><img src=\"https://colab.research.google.com/assets/colab-badge.svg\" alt=\"Open In Colab\"/></a>"
      ]
    },
    {
      "cell_type": "code",
      "metadata": {
        "id": "z04IawIPo40K",
        "colab_type": "code",
        "colab": {
          "base_uri": "https://localhost:8080/",
          "height": 51
        },
        "outputId": "e1dea7da-b377-4e96-eeb5-a26030c5e709"
      },
      "source": [
        "# Aula - Ep. #09 - Mini Curso de #IP\n",
        "# Estruturas Condicionais Aninhadas e o elif\n",
        "# GitHub do mini curso: https://github.com/clovesrocha/minicursoip\n",
        "# Prepara o café e vamos simbora!\n",
        "\n",
        "n = float(input('Digite uma nota: '))\n",
        "if n >= 6:\n",
        "   print('Esta nota é positiva')\n",
        "elif n == 6:\n",
        "   print('Esta nota é regular')\n",
        "else:\n",
        "   print('Esta nota é negativa')\n"
      ],
      "execution_count": 7,
      "outputs": [
        {
          "output_type": "stream",
          "text": [
            "Digite uma nota: 5\n",
            "Esta nota é negativa\n"
          ],
          "name": "stdout"
        }
      ]
    }
  ]
}