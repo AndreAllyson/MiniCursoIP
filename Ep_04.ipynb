{
  "nbformat": 4,
  "nbformat_minor": 0,
  "metadata": {
    "colab": {
      "name": "Ep. #04.ipynb",
      "provenance": [],
      "authorship_tag": "ABX9TyMKnw33Dmt3bmrHarGmaNcH",
      "include_colab_link": true
    },
    "kernelspec": {
      "name": "python3",
      "display_name": "Python 3"
    }
  },
  "cells": [
    {
      "cell_type": "markdown",
      "metadata": {
        "id": "view-in-github",
        "colab_type": "text"
      },
      "source": [
        "<a href=\"https://colab.research.google.com/github/clovesrocha/minicursoip/blob/master/Ep_04.ipynb\" target=\"_parent\"><img src=\"https://colab.research.google.com/assets/colab-badge.svg\" alt=\"Open In Colab\"/></a>"
      ]
    },
    {
      "cell_type": "code",
      "metadata": {
        "id": "nOSuXabnaOrS",
        "colab_type": "code",
        "colab": {
          "base_uri": "https://localhost:8080/",
          "height": 34
        },
        "outputId": "ad2647fb-75da-4879-ea0f-127cf7ee6076"
      },
      "source": [
        "# Aula - Ep. #04 - Mini Curso de #IP\n",
        "# Operadores Relacionais Simples\n",
        "# GitHub do mini curso: https://github.com/clovesrocha/minicursoip \n",
        "\n",
        "# > maior que\n",
        "# < menor que\n",
        "# == igual a (comparação)\n",
        "\n",
        "#x = 3<2\n",
        "#print(x)\n",
        "#c = 3.1==3.19\n",
        "#print(c)\n",
        "\n"
      ],
      "execution_count": 8,
      "outputs": [
        {
          "output_type": "stream",
          "text": [
            "False\n"
          ],
          "name": "stdout"
        }
      ]
    }
  ]
}