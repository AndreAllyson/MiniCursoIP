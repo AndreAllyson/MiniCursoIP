{
  "nbformat": 4,
  "nbformat_minor": 0,
  "metadata": {
    "colab": {
      "provenance": [],
      "authorship_tag": "ABX9TyMthm7ZHkziSywVVvRY5OST",
      "include_colab_link": true
    },
    "kernelspec": {
      "name": "python3",
      "display_name": "Python 3"
    },
    "language_info": {
      "name": "python"
    }
  },
  "cells": [
    {
      "cell_type": "markdown",
      "metadata": {
        "id": "view-in-github",
        "colab_type": "text"
      },
      "source": [
        "<a href=\"https://colab.research.google.com/github/clovesrocha/MiniCursoIP/blob/master/Untitled0.ipynb\" target=\"_parent\"><img src=\"https://colab.research.google.com/assets/colab-badge.svg\" alt=\"Open In Colab\"/></a>"
      ]
    },
    {
      "cell_type": "code",
      "execution_count": null,
      "metadata": {
        "colab": {
          "base_uri": "https://localhost:8080/"
        },
        "id": "ZfNJ9ugIanvU",
        "outputId": "051defd0-69eb-4587-8307-83c039eee95b"
      },
      "outputs": [
        {
          "output_type": "stream",
          "name": "stdout",
          "text": [
            "quanto é dois mais três? 5\n",
            "3\n",
            "8\n",
            "5.0\n",
            "32\n",
            "1\n",
            "Digite um número:5\n",
            "Digite outro número:9\n",
            "A soma dos numeros foi:  14\n"
          ]
        }
      ],
      "source": [
        "#tipo Inteiro ok\n",
        "#tipo Reais ok\n",
        "#Ttipo Booleanos ok\n",
        "#Tipo Letrinhas (string) ok\n",
        "#Alunos: Emerson Aquino - 01501853, Maísa Souza - 01508744, Renan Zloccowick - 01529935\n",
        "#Turma: 4MC\n",
        "\n",
        "c = 2+3\n",
        "print ('quanto é dois mais três?', c)\n",
        "\n",
        "g = 5-2\n",
        "print (g)\n",
        "\n",
        "b = 4*2\n",
        "print (b)\n",
        "\n",
        "a = 10 / 2\n",
        "print (a)\n",
        "\n",
        "d = 2 ** 5\n",
        "print (d)\n",
        "\n",
        "f = 10 % 3\n",
        "print (f)\n",
        "\n",
        "n1 = int(input (\"Digite um número:\"))\n",
        "n2 = int(input (\"Digite outro número:\"))\n",
        "soma = n1 + n2\n",
        "print (\"A soma dos numeros foi: \" , (soma))"
      ]
    },
    {
      "cell_type": "code",
      "source": [
        "a = 2\n",
        "b = 3\n",
        "print (a > 3)"
      ],
      "metadata": {
        "colab": {
          "base_uri": "https://localhost:8080/"
        },
        "id": "OsaJONKvkbhX",
        "outputId": "c644863c-f4f3-48c9-a451-c248bc4c4b68"
      },
      "execution_count": null,
      "outputs": [
        {
          "output_type": "stream",
          "name": "stdout",
          "text": [
            "False\n"
          ]
        }
      ]
    }
  ]
}