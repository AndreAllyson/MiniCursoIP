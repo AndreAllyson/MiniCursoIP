{
  "nbformat": 4,
  "nbformat_minor": 0,
  "metadata": {
    "colab": {
      "provenance": [],
      "authorship_tag": "ABX9TyPrWYKwsl2mKwQd5EgG1Lra",
      "include_colab_link": true
    },
    "kernelspec": {
      "name": "python3",
      "display_name": "Python 3"
    },
    "language_info": {
      "name": "python"
    }
  },
  "cells": [
    {
      "cell_type": "markdown",
      "metadata": {
        "id": "view-in-github",
        "colab_type": "text"
      },
      "source": [
        "<a href=\"https://colab.research.google.com/github/clovesrocha/MiniCursoIP/blob/master/aula00.ipynb\" target=\"_parent\"><img src=\"https://colab.research.google.com/assets/colab-badge.svg\" alt=\"Open In Colab\"/></a>"
      ]
    },
    {
      "cell_type": "code",
      "execution_count": 13,
      "metadata": {
        "colab": {
          "base_uri": "https://localhost:8080/"
        },
        "id": "mkvVOJqw7Njf",
        "outputId": "64fe5232-adcd-470c-c7b1-7c51d99cecff"
      },
      "outputs": [
        {
          "output_type": "stream",
          "name": "stdout",
          "text": [
            "<class 'bool'>\n"
          ]
        }
      ],
      "source": [
        "# ESCREVA AQUI SEU COMENTÁRIO...\n",
        "# UNINASSAU\n",
        "# DOCENTE: PROF. MSc Cloves\n",
        "# ESTUDANTE:\n",
        "\n",
        "#print('Olá mundo!')\n",
        "c = False\n",
        "print(type(c))"
      ]
    }
  ]
}