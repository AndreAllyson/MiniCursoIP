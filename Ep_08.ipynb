{
  "nbformat": 4,
  "nbformat_minor": 0,
  "metadata": {
    "colab": {
      "name": "Ep. #08.ipynb",
      "provenance": [],
      "authorship_tag": "ABX9TyPpMbCFnllN17PAf2hDVcxY",
      "include_colab_link": true
    },
    "kernelspec": {
      "name": "python3",
      "display_name": "Python 3"
    }
  },
  "cells": [
    {
      "cell_type": "markdown",
      "metadata": {
        "id": "view-in-github",
        "colab_type": "text"
      },
      "source": [
        "<a href=\"https://colab.research.google.com/github/clovesrocha/minicursoip/blob/master/Ep_08.ipynb\" target=\"_parent\"><img src=\"https://colab.research.google.com/assets/colab-badge.svg\" alt=\"Open In Colab\"/></a>"
      ]
    },
    {
      "cell_type": "code",
      "metadata": {
        "id": "fPb5XnUDXUpq",
        "colab_type": "code",
        "colab": {
          "base_uri": "https://localhost:8080/",
          "height": 51
        },
        "outputId": "16425165-ab81-48be-93a2-dffb85657b9c"
      },
      "source": [
        "# Aula - Ep. #08 - Mini Curso de #IP\n",
        "# Estruturas Condicionais e Repetições if e else\n",
        "# GitHub do mini curso: https://github.com/clovesrocha/minicursoip\n",
        "# Prepara o café e vamos simbora! \n",
        "\n",
        "num = int(input('Digite um número: '))\n",
        "if num % 2 == 0:\n",
        "  print(f'O número {num} é par.')\n",
        "else: \n",
        "  print(f'O número {num} é ímpar.')"
      ],
      "execution_count": 30,
      "outputs": [
        {
          "output_type": "stream",
          "text": [
            "Digite um número: 34070999\n",
            "O número 34070999 é ímpar.\n"
          ],
          "name": "stdout"
        }
      ]
    }
  ]
}