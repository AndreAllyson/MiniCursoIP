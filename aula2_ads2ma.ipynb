{
  "nbformat": 4,
  "nbformat_minor": 0,
  "metadata": {
    "colab": {
      "provenance": []
    },
    "kernelspec": {
      "name": "python3",
      "display_name": "Python 3"
    },
    "language_info": {
      "name": "python"
    }
  },
  "cells": [
    {
      "cell_type": "code",
      "execution_count": 7,
      "metadata": {
        "colab": {
          "base_uri": "https://localhost:8080/"
        },
        "id": "jfHstVefdN2S",
        "outputId": "b0744d73-18ff-489f-e3d9-6bf120fc6472"
      },
      "outputs": [
        {
          "output_type": "stream",
          "name": "stdout",
          "text": [
            "<class 'bool'>\n"
          ]
        }
      ],
      "source": [
        "# UNINASSAU\n",
        "# DOCENTE: CLOVES ROCHA\n",
        "# ESTUDANTE: ...\n",
        "# TIPOS PRIMITIVOS DE DADOS\n",
        "\n",
        "#print('Olá Mundo!')\n",
        "\n",
        "c  = False\n",
        "print(type(c))"
      ]
    }
  ]
}