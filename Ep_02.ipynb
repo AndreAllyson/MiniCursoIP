{
  "nbformat": 4,
  "nbformat_minor": 0,
  "metadata": {
    "colab": {
      "name": "Ep. #02.ipynb",
      "provenance": [],
      "toc_visible": true,
      "include_colab_link": true
    },
    "kernelspec": {
      "name": "python3",
      "display_name": "Python 3"
    }
  },
  "cells": [
    {
      "cell_type": "markdown",
      "metadata": {
        "id": "view-in-github",
        "colab_type": "text"
      },
      "source": [
        "<a href=\"https://colab.research.google.com/github/clovesrocha/MiniCursoIP/blob/master/Ep_02.ipynb\" target=\"_parent\"><img src=\"https://colab.research.google.com/assets/colab-badge.svg\" alt=\"Open In Colab\"/></a>"
      ]
    },
    {
      "cell_type": "code",
      "metadata": {
        "id": "Ug7UrReB_psV",
        "colab": {
          "base_uri": "https://localhost:8080/"
        },
        "outputId": "8ced0ac5-3d89-4d6a-f3ac-4f4f61fc270b"
      },
      "source": [
        "# Aula - Ep. #02 - Mini Curso de #IP\n",
        "# Tipos Primitivos de Dados em Python\n",
        "# Docente: Cloves Rocha\n",
        "# Estudantes: Caio Henrique, Caio Cesar, Caio Nemésio\n",
        "# Uninassau\n",
        "# CC 4NMC\n",
        "\n",
        "# Tipo Inteiro ok\n",
        "# Tipo Reais ok\n",
        "# Tipo Booleanos ok\n",
        "# Tipo Caracteres (string) ok\n",
        "\n",
        "# c = \"rocha\"\n",
        "# print(c)\n",
        "c = 5+20*5\n",
        "r = 5\n",
        "print(c*r)"
      ],
      "execution_count": 7,
      "outputs": [
        {
          "output_type": "stream",
          "name": "stdout",
          "text": [
            "525\n"
          ]
        }
      ]
    }
  ]
}